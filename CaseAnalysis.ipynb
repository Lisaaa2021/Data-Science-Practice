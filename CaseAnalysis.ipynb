{
 "cells": [
  {
   "cell_type": "code",
   "execution_count": 1,
   "id": "2b993336-0452-40c4-bdc0-14e80348b3d8",
   "metadata": {},
   "outputs": [],
   "source": [
    "import pandas as pd\n",
    "import datetime as dt\n",
    "import requests\n",
    "import matplotlib.pyplot as plt"
   ]
  },
  {
   "cell_type": "code",
   "execution_count": 2,
   "id": "0031a9d9-a446-4347-813f-fd539ec561ba",
   "metadata": {},
   "outputs": [],
   "source": [
    "calender = pd.read_csv('Calendar-Table 1.csv')\n",
    "location = pd.read_csv('Locations-Table 1.csv')\n",
    "products = pd.read_csv('Products-Table 1.csv')\n",
    "sales = pd.read_csv('Sales-Table 1.csv')\n",
    "states = pd.read_csv('States-Table 1.csv')"
   ]
  },
  {
   "cell_type": "markdown",
   "id": "1649d710-8fb7-4f24-a68e-348c35279d1d",
   "metadata": {},
   "source": [
    "## Data cleaning"
   ]
  },
  {
   "cell_type": "code",
   "execution_count": 3,
   "id": "d04f64e6-d2e8-4846-8a18-e006d591e7c7",
   "metadata": {},
   "outputs": [],
   "source": [
    "#calculate the revenue_USD\n",
    "sales['Unit Price'] = sales['Unit Price'].map(lambda x: x.strip('US$')).astype(float)\n",
    "sales['revenue_USD'] = sales['Unit Sales'] * sales['Unit Price']\n",
    "\n",
    "#format date\n",
    "sales['date_formatted'] = pd.TimedeltaIndex(sales['Date'], unit='d') + dt.datetime(1900,1,1)\n",
    "\n",
    "#add quarter info\n",
    "sales['Quarter'] = sales['date_formatted'].dt.to_period('Q')\n",
    "\n",
    "#drop nan column\n",
    "sales.drop(columns = 'Unnamed: 5', inplace = True)\n",
    "\n",
    "#get USD/CNY exchange rate through API\n",
    "url = 'https://api.exchangerate-api.com/v4/latest/USD'\n",
    "response = requests.get(url).json()\n",
    "USD_to_CNY_rate = response['rates']['CNY']\n",
    "\n",
    "#calculate revenue_CNY\n",
    "sales['revenue_CNY'] = round(sales['revenue_USD'] * USD_to_CNY_rate , 2)"
   ]
  },
  {
   "cell_type": "code",
   "execution_count": 4,
   "id": "6b5f081a-5aa8-4198-8315-db03a1d01007",
   "metadata": {},
   "outputs": [],
   "source": [
    "#formate date\n",
    "calender['date_formatted'] = pd.TimedeltaIndex(calender['Date'], unit = 'd') + dt.datetime(1900,1,1)\n",
    "calender = calender[['date_formatted']]"
   ]
  },
  {
   "cell_type": "code",
   "execution_count": 5,
   "id": "ce443c95-5fcd-4eb7-9231-189a6ad13c28",
   "metadata": {},
   "outputs": [],
   "source": [
    "#add state code\n",
    "US_states = [ 'AK', 'AL', 'AR', 'AZ', 'CA', 'CO', 'CT', 'DC', 'DE', 'FL', 'GA',\n",
    "           'HI', 'IA', 'ID', 'IL', 'IN', 'KS', 'KY', 'LA', 'MA', 'MD', 'ME',\n",
    "           'MI', 'MN', 'MO', 'MS', 'MT', 'NC', 'ND', 'NE', 'NH', 'NJ', 'NM',\n",
    "           'NV', 'NY', 'OH', 'OK', 'OR', 'PA', 'RI', 'SC', 'SD', 'TN', 'TX',\n",
    "           'UT', 'VA', 'VT', 'WA', 'WI', 'WV', 'WY']\n",
    "states['state_code'] = states['State'].map(lambda x: US_states.index(x))\n",
    "states.drop(columns =['Unnamed: 4'], inplace = True)"
   ]
  },
  {
   "cell_type": "code",
   "execution_count": 6,
   "id": "70accc2e-a1a5-48aa-b7cc-c6f638f2b95a",
   "metadata": {},
   "outputs": [],
   "source": [
    "location.drop(columns = ['Unnamed: 4','Unnamed: 5'],inplace = True)"
   ]
  },
  {
   "cell_type": "code",
   "execution_count": 7,
   "id": "ab77ec0f-ab2c-4c90-81d6-3192a041aac6",
   "metadata": {},
   "outputs": [],
   "source": [
    "products.drop(columns = ['Unnamed: 5'], inplace = True)"
   ]
  },
  {
   "cell_type": "markdown",
   "id": "7b68e594-67c9-4286-836c-5098fe13fe7a",
   "metadata": {},
   "source": [
    "## Calculate revenue per day"
   ]
  },
  {
   "cell_type": "code",
   "execution_count": 8,
   "id": "f0d274af-9d52-41ef-afa8-dde3332529d8",
   "metadata": {},
   "outputs": [
    {
     "data": {
      "text/html": [
       "<div>\n",
       "<style scoped>\n",
       "    .dataframe tbody tr th:only-of-type {\n",
       "        vertical-align: middle;\n",
       "    }\n",
       "\n",
       "    .dataframe tbody tr th {\n",
       "        vertical-align: top;\n",
       "    }\n",
       "\n",
       "    .dataframe thead th {\n",
       "        text-align: right;\n",
       "    }\n",
       "</style>\n",
       "<table border=\"1\" class=\"dataframe\">\n",
       "  <thead>\n",
       "    <tr style=\"text-align: right;\">\n",
       "      <th></th>\n",
       "      <th>revenue_USD</th>\n",
       "    </tr>\n",
       "    <tr>\n",
       "      <th>date_formatted</th>\n",
       "      <th></th>\n",
       "    </tr>\n",
       "  </thead>\n",
       "  <tbody>\n",
       "    <tr>\n",
       "      <th>2014-02-02</th>\n",
       "      <td>7389817.40</td>\n",
       "    </tr>\n",
       "    <tr>\n",
       "      <th>2014-03-02</th>\n",
       "      <td>7290746.75</td>\n",
       "    </tr>\n",
       "    <tr>\n",
       "      <th>2014-04-02</th>\n",
       "      <td>7104319.25</td>\n",
       "    </tr>\n",
       "    <tr>\n",
       "      <th>2014-05-02</th>\n",
       "      <td>7068238.55</td>\n",
       "    </tr>\n",
       "    <tr>\n",
       "      <th>2014-06-02</th>\n",
       "      <td>6926530.10</td>\n",
       "    </tr>\n",
       "    <tr>\n",
       "      <th>2014-07-02</th>\n",
       "      <td>7391033.30</td>\n",
       "    </tr>\n",
       "    <tr>\n",
       "      <th>2014-08-02</th>\n",
       "      <td>7608650.55</td>\n",
       "    </tr>\n",
       "    <tr>\n",
       "      <th>2014-09-02</th>\n",
       "      <td>7639620.65</td>\n",
       "    </tr>\n",
       "    <tr>\n",
       "      <th>2014-10-02</th>\n",
       "      <td>7647030.60</td>\n",
       "    </tr>\n",
       "    <tr>\n",
       "      <th>2014-11-02</th>\n",
       "      <td>7733799.95</td>\n",
       "    </tr>\n",
       "    <tr>\n",
       "      <th>2014-12-02</th>\n",
       "      <td>7675443.55</td>\n",
       "    </tr>\n",
       "    <tr>\n",
       "      <th>2015-01-02</th>\n",
       "      <td>7722670.60</td>\n",
       "    </tr>\n",
       "    <tr>\n",
       "      <th>2015-02-02</th>\n",
       "      <td>7596004.95</td>\n",
       "    </tr>\n",
       "    <tr>\n",
       "      <th>2015-03-02</th>\n",
       "      <td>7422271.60</td>\n",
       "    </tr>\n",
       "    <tr>\n",
       "      <th>2015-04-02</th>\n",
       "      <td>7288259.25</td>\n",
       "    </tr>\n",
       "    <tr>\n",
       "      <th>2015-05-02</th>\n",
       "      <td>7187837.15</td>\n",
       "    </tr>\n",
       "    <tr>\n",
       "      <th>2015-06-02</th>\n",
       "      <td>6966875.65</td>\n",
       "    </tr>\n",
       "    <tr>\n",
       "      <th>2015-07-02</th>\n",
       "      <td>6881952.20</td>\n",
       "    </tr>\n",
       "    <tr>\n",
       "      <th>2015-08-02</th>\n",
       "      <td>7003471.80</td>\n",
       "    </tr>\n",
       "    <tr>\n",
       "      <th>2015-09-02</th>\n",
       "      <td>7021226.60</td>\n",
       "    </tr>\n",
       "    <tr>\n",
       "      <th>2015-10-02</th>\n",
       "      <td>6980427.30</td>\n",
       "    </tr>\n",
       "    <tr>\n",
       "      <th>2015-11-02</th>\n",
       "      <td>7067357.10</td>\n",
       "    </tr>\n",
       "    <tr>\n",
       "      <th>2015-12-02</th>\n",
       "      <td>7065559.80</td>\n",
       "    </tr>\n",
       "    <tr>\n",
       "      <th>2016-01-02</th>\n",
       "      <td>7173655.40</td>\n",
       "    </tr>\n",
       "  </tbody>\n",
       "</table>\n",
       "</div>"
      ],
      "text/plain": [
       "                revenue_USD\n",
       "date_formatted             \n",
       "2014-02-02       7389817.40\n",
       "2014-03-02       7290746.75\n",
       "2014-04-02       7104319.25\n",
       "2014-05-02       7068238.55\n",
       "2014-06-02       6926530.10\n",
       "2014-07-02       7391033.30\n",
       "2014-08-02       7608650.55\n",
       "2014-09-02       7639620.65\n",
       "2014-10-02       7647030.60\n",
       "2014-11-02       7733799.95\n",
       "2014-12-02       7675443.55\n",
       "2015-01-02       7722670.60\n",
       "2015-02-02       7596004.95\n",
       "2015-03-02       7422271.60\n",
       "2015-04-02       7288259.25\n",
       "2015-05-02       7187837.15\n",
       "2015-06-02       6966875.65\n",
       "2015-07-02       6881952.20\n",
       "2015-08-02       7003471.80\n",
       "2015-09-02       7021226.60\n",
       "2015-10-02       6980427.30\n",
       "2015-11-02       7067357.10\n",
       "2015-12-02       7065559.80\n",
       "2016-01-02       7173655.40"
      ]
     },
     "execution_count": 8,
     "metadata": {},
     "output_type": "execute_result"
    }
   ],
   "source": [
    "sales.groupby(['date_formatted']).sum()[['revenue_USD']]"
   ]
  },
  {
   "cell_type": "markdown",
   "id": "351feb3d-0fa3-4dc0-b750-3842a44718a1",
   "metadata": {},
   "source": [
    "## Dataframe intergration"
   ]
  },
  {
   "cell_type": "code",
   "execution_count": 9,
   "id": "0c0f470d-2f8c-426c-9f4e-976fe3364bf3",
   "metadata": {},
   "outputs": [],
   "source": [
    "df = sales.merge(location, on = ['Store'], how = 'left')\n",
    "df = df.merge(products, on = ['Product ID'])\n",
    "df = df. merge(states, on = ['State'])"
   ]
  },
  {
   "cell_type": "code",
   "execution_count": 10,
   "id": "14071812-c10f-47db-9e0a-581233e14338",
   "metadata": {},
   "outputs": [],
   "source": [
    "#import the csv\n",
    "df.to_csv('df.csv')"
   ]
  },
  {
   "cell_type": "code",
   "execution_count": null,
   "id": "68a948c9-bbca-413d-be5e-48e571276cb8",
   "metadata": {},
   "outputs": [],
   "source": []
  }
 ],
 "metadata": {
  "kernelspec": {
   "display_name": "Python 3 (ipykernel)",
   "language": "python",
   "name": "python3"
  },
  "language_info": {
   "codemirror_mode": {
    "name": "ipython",
    "version": 3
   },
   "file_extension": ".py",
   "mimetype": "text/x-python",
   "name": "python",
   "nbconvert_exporter": "python",
   "pygments_lexer": "ipython3",
   "version": "3.9.7"
  }
 },
 "nbformat": 4,
 "nbformat_minor": 5
}
